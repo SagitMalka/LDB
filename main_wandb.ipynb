{
 "cells": [
  {
   "cell_type": "code",
   "execution_count": 1,
   "metadata": {},
   "outputs": [],
   "source": [
    "# arguments for the project\n",
    "\n",
    "MODEL = \"ResNet101\" # case sensitive\n",
    "DATASET = \"cifar100\" # choices=['cifar10', 'cifar100', 'mnist', 'svhn','imagenet']\n",
    "LEARN_RATE = 0.5\n",
    "LEARN_RATE_SCHEDULER = \"cosine\" # choices=['linear', 'cosine']\n",
    "LEARN_RATE_POLICY = \"double\" # choices=['double', 'fix', 'relative']\n",
    "LEARN_RATE_GAMMA = 0.2\n",
    "MOMENTUM = 0.9\n",
    "DROP_RATE = 0.5\n",
    "BATCH_SIZE = 128\n",
    "BATCH_INC = 1\n",
    "SKIP_INDEX = 2\n",
    "EPOCHS = 121\n",
    "OPTIMIZER = 'adam' # choices=['sgd', 'dlrd', 'lrd', 'adam']\n",
    "SEED = 2\n",
    "NO_LDB =\"store_true\" # not sure what this does?\n",
    "MILESTONES = \"60,120,160,180\" # milestones for learn rate decay\n",
    "PROJECT = \"dropbackfaster\" # project name"
   ]
  },
  {
   "cell_type": "code",
   "execution_count": 2,
   "metadata": {},
   "outputs": [
    {
     "name": "stderr",
     "output_type": "stream",
     "text": [
      "\u001b[34m\u001b[1mwandb\u001b[0m: Currently logged in as: \u001b[33myevgenyivanov\u001b[0m (\u001b[33msagitmalka10-ariel-university\u001b[0m) to \u001b[32mhttps://api.wandb.ai\u001b[0m. Use \u001b[1m`wandb login --relogin`\u001b[0m to force relogin\n"
     ]
    },
    {
     "data": {
      "text/html": [
       "Tracking run with wandb version 0.20.1"
      ],
      "text/plain": [
       "<IPython.core.display.HTML object>"
      ]
     },
     "metadata": {},
     "output_type": "display_data"
    },
    {
     "data": {
      "text/html": [
       "Run data is saved locally in <code>/home/yevgenos/Documents/University/Final_Proj/LDB-main/wandb/run-20250705_193121-onqzhgh6</code>"
      ],
      "text/plain": [
       "<IPython.core.display.HTML object>"
      ]
     },
     "metadata": {},
     "output_type": "display_data"
    },
    {
     "data": {
      "text/html": [
       "Syncing run <strong><a href='https://wandb.ai/sagitmalka10-ariel-university/LDB/runs/onqzhgh6' target=\"_blank\">floral-frog-9</a></strong> to <a href='https://wandb.ai/sagitmalka10-ariel-university/LDB' target=\"_blank\">Weights & Biases</a> (<a href='https://wandb.me/developer-guide' target=\"_blank\">docs</a>)<br>"
      ],
      "text/plain": [
       "<IPython.core.display.HTML object>"
      ]
     },
     "metadata": {},
     "output_type": "display_data"
    },
    {
     "data": {
      "text/html": [
       " View project at <a href='https://wandb.ai/sagitmalka10-ariel-university/LDB' target=\"_blank\">https://wandb.ai/sagitmalka10-ariel-university/LDB</a>"
      ],
      "text/plain": [
       "<IPython.core.display.HTML object>"
      ]
     },
     "metadata": {},
     "output_type": "display_data"
    },
    {
     "data": {
      "text/html": [
       " View run at <a href='https://wandb.ai/sagitmalka10-ariel-university/LDB/runs/onqzhgh6' target=\"_blank\">https://wandb.ai/sagitmalka10-ariel-university/LDB/runs/onqzhgh6</a>"
      ],
      "text/plain": [
       "<IPython.core.display.HTML object>"
      ]
     },
     "metadata": {},
     "output_type": "display_data"
    }
   ],
   "source": [
    "import random\n",
    "\n",
    "import wandb\n",
    "\n",
    "wandb.login()\n",
    "# Start a new wandb run to track this script.\n",
    "run = wandb.init(\n",
    "    # Set the wandb entity where your project will be logged (generally your team name).\n",
    "    entity=\"sagitmalka10-ariel-university\",\n",
    "    # Set the wandb project where this run will be logged.\n",
    "    project=\"LDB\",\n",
    "    # Track hyperparameters and run metadata.\n",
    "    config={\n",
    "        \"learning_rate\": LEARN_RATE,\n",
    "        \"model\": MODEL,\n",
    "        \"dataset\": DATASET,\n",
    "        \"epochs\": EPOCHS,\n",
    "        \"drop rate\": DROP_RATE,\n",
    "        \"batch size\":BATCH_SIZE,\n",
    "        \"optimizer\": OPTIMIZER\n",
    "    },\n",
    ")\n"
   ]
  },
  {
   "cell_type": "code",
   "execution_count": 3,
   "metadata": {},
   "outputs": [
    {
     "name": "stderr",
     "output_type": "stream",
     "text": [
      "/home/yevgenos/Documents/University/Final_Proj/LDB-main/.venv/lib/python3.10/site-packages/tqdm/auto.py:21: TqdmWarning: IProgress not found. Please update jupyter and ipywidgets. See https://ipywidgets.readthedocs.io/en/stable/user_install.html\n",
      "  from .autonotebook import tqdm as notebook_tqdm\n"
     ]
    },
    {
     "name": "stdout",
     "output_type": "stream",
     "text": [
      "Ignoring unknown arguments: ['--f=/home/yevgenos/.local/share/jupyter/runtime/kernel-v2-5818ssECDpGwie2L.json']\n"
     ]
    },
    {
     "ename": "KeyError",
     "evalue": "'adam'",
     "output_type": "error",
     "traceback": [
      "\u001b[0;31m---------------------------------------------------------------------------\u001b[0m",
      "\u001b[0;31mKeyError\u001b[0m                                  Traceback (most recent call last)",
      "Cell \u001b[0;32mIn[3], line 294\u001b[0m\n\u001b[1;32m    290\u001b[0m     \u001b[38;5;28mprint\u001b[39m(get_expr_name(args\u001b[38;5;241m.\u001b[39mldb,model\u001b[38;5;241m=\u001b[39margs\u001b[38;5;241m.\u001b[39mmodel, optimizer\u001b[38;5;241m=\u001b[39margs\u001b[38;5;241m.\u001b[39moptim, lr\u001b[38;5;241m=\u001b[39margs\u001b[38;5;241m.\u001b[39mlr,\n\u001b[1;32m    291\u001b[0m                                      momentum\u001b[38;5;241m=\u001b[39margs\u001b[38;5;241m.\u001b[39mmomentum,droprate \u001b[38;5;241m=\u001b[39m args\u001b[38;5;241m.\u001b[39mdroprate, dataset\u001b[38;5;241m=\u001b[39margs\u001b[38;5;241m.\u001b[39mdataset))\n\u001b[1;32m    293\u001b[0m \u001b[38;5;28;01mif\u001b[39;00m \u001b[38;5;18m__name__\u001b[39m \u001b[38;5;241m==\u001b[39m \u001b[38;5;124m'\u001b[39m\u001b[38;5;124m__main__\u001b[39m\u001b[38;5;124m'\u001b[39m:\n\u001b[0;32m--> 294\u001b[0m     \u001b[43mmain\u001b[49m\u001b[43m(\u001b[49m\u001b[43m)\u001b[49m\n",
      "Cell \u001b[0;32mIn[3], line 234\u001b[0m, in \u001b[0;36mmain\u001b[0;34m()\u001b[0m\n\u001b[1;32m    232\u001b[0m \u001b[38;5;28;01mif\u001b[39;00m (args\u001b[38;5;241m.\u001b[39mno_ldb):\n\u001b[1;32m    233\u001b[0m     args\u001b[38;5;241m.\u001b[39mdroprate \u001b[38;5;241m=\u001b[39m \u001b[38;5;241m0.0\u001b[39m\n\u001b[0;32m--> 234\u001b[0m args\u001b[38;5;241m.\u001b[39mexpr_name  \u001b[38;5;241m=\u001b[39m \u001b[43mget_expr_name\u001b[49m\u001b[43m(\u001b[49m\u001b[43margs\u001b[49m\u001b[38;5;241;43m.\u001b[39;49m\u001b[43mldb\u001b[49m\u001b[43m,\u001b[49m\u001b[43mmodel\u001b[49m\u001b[38;5;241;43m=\u001b[39;49m\u001b[43margs\u001b[49m\u001b[38;5;241;43m.\u001b[39;49m\u001b[43mmodel\u001b[49m\u001b[43m,\u001b[49m\u001b[43m \u001b[49m\u001b[43moptimizer\u001b[49m\u001b[38;5;241;43m=\u001b[39;49m\u001b[43margs\u001b[49m\u001b[38;5;241;43m.\u001b[39;49m\u001b[43moptim\u001b[49m\u001b[43m,\u001b[49m\u001b[43m \u001b[49m\u001b[43mlr\u001b[49m\u001b[38;5;241;43m=\u001b[39;49m\u001b[43margs\u001b[49m\u001b[38;5;241;43m.\u001b[39;49m\u001b[43mlr\u001b[49m\u001b[43m,\u001b[49m\n\u001b[1;32m    235\u001b[0m \u001b[43m                                 \u001b[49m\u001b[43mmomentum\u001b[49m\u001b[38;5;241;43m=\u001b[39;49m\u001b[43margs\u001b[49m\u001b[38;5;241;43m.\u001b[39;49m\u001b[43mmomentum\u001b[49m\u001b[43m,\u001b[49m\u001b[43mdroprate\u001b[49m\u001b[43m \u001b[49m\u001b[38;5;241;43m=\u001b[39;49m\u001b[43m \u001b[49m\u001b[43margs\u001b[49m\u001b[38;5;241;43m.\u001b[39;49m\u001b[43mdroprate\u001b[49m\u001b[43m,\u001b[49m\u001b[43m \u001b[49m\u001b[43mdataset\u001b[49m\u001b[38;5;241;43m=\u001b[39;49m\u001b[43margs\u001b[49m\u001b[38;5;241;43m.\u001b[39;49m\u001b[43mdataset\u001b[49m\u001b[43m)\u001b[49m\n\u001b[1;32m    238\u001b[0m trainloader_single_batch, testloader,trainloader_double_batch \u001b[38;5;241m=\u001b[39m build_dataset(args)\n\u001b[1;32m    239\u001b[0m device \u001b[38;5;241m=\u001b[39m \u001b[38;5;124m'\u001b[39m\u001b[38;5;124mcuda\u001b[39m\u001b[38;5;124m'\u001b[39m \u001b[38;5;28;01mif\u001b[39;00m torch\u001b[38;5;241m.\u001b[39mcuda\u001b[38;5;241m.\u001b[39mis_available() \u001b[38;5;28;01melse\u001b[39;00m \u001b[38;5;124m'\u001b[39m\u001b[38;5;124mcpu\u001b[39m\u001b[38;5;124m'\u001b[39m\n",
      "Cell \u001b[0;32mIn[3], line 16\u001b[0m, in \u001b[0;36mget_expr_name\u001b[0;34m(ldb, model, optimizer, lr, momentum, droprate, dataset)\u001b[0m\n\u001b[1;32m     15\u001b[0m \u001b[38;5;28;01mdef\u001b[39;00m\u001b[38;5;250m \u001b[39m\u001b[38;5;21mget_expr_name\u001b[39m(ldb\u001b[38;5;241m=\u001b[39m\u001b[38;5;28;01mTrue\u001b[39;00m, model\u001b[38;5;241m=\u001b[39m\u001b[38;5;124m'\u001b[39m\u001b[38;5;124mresnet\u001b[39m\u001b[38;5;124m'\u001b[39m, optimizer\u001b[38;5;241m=\u001b[39m\u001b[38;5;124m'\u001b[39m\u001b[38;5;124msgd\u001b[39m\u001b[38;5;124m'\u001b[39m, lr\u001b[38;5;241m=\u001b[39m\u001b[38;5;241m0.1\u001b[39m,momentum\u001b[38;5;241m=\u001b[39m\u001b[38;5;241m0\u001b[39m, droprate\u001b[38;5;241m=\u001b[39m\u001b[38;5;241m0\u001b[39m, dataset\u001b[38;5;241m=\u001b[39m\u001b[38;5;124m'\u001b[39m\u001b[38;5;124mcifar10\u001b[39m\u001b[38;5;124m'\u001b[39m):\n\u001b[0;32m---> 16\u001b[0m     name \u001b[38;5;241m=\u001b[39m \u001b[43m{\u001b[49m\n\u001b[1;32m     17\u001b[0m \u001b[43m        \u001b[49m\u001b[38;5;124;43m'\u001b[39;49m\u001b[38;5;124;43msgd\u001b[39;49m\u001b[38;5;124;43m'\u001b[39;49m\u001b[43m:\u001b[49m\u001b[43m \u001b[49m\u001b[38;5;124;43m'\u001b[39;49m\u001b[38;5;124;43mlr\u001b[39;49m\u001b[38;5;132;43;01m{}\u001b[39;49;00m\u001b[38;5;124;43m-momentum\u001b[39;49m\u001b[38;5;132;43;01m{}\u001b[39;49;00m\u001b[38;5;124;43m--droprate\u001b[39;49m\u001b[38;5;132;43;01m{}\u001b[39;49;00m\u001b[38;5;124;43m'\u001b[39;49m\u001b[38;5;241;43m.\u001b[39;49m\u001b[43mformat\u001b[49m\u001b[43m(\u001b[49m\u001b[43mlr\u001b[49m\u001b[43m,\u001b[49m\u001b[43m \u001b[49m\u001b[43mmomentum\u001b[49m\u001b[43m,\u001b[49m\u001b[43m \u001b[49m\u001b[43mdroprate\u001b[49m\u001b[43m)\u001b[49m\n\u001b[1;32m     18\u001b[0m \u001b[43m    \u001b[49m\u001b[43m}\u001b[49m\u001b[43m[\u001b[49m\u001b[43moptimizer\u001b[49m\u001b[43m]\u001b[49m\n\u001b[1;32m     19\u001b[0m     DATE_FORMAT \u001b[38;5;241m=\u001b[39m \u001b[38;5;124m'\u001b[39m\u001b[38;5;124m%\u001b[39m\u001b[38;5;124mA_\u001b[39m\u001b[38;5;132;01m%d\u001b[39;00m\u001b[38;5;124m_\u001b[39m\u001b[38;5;124m%\u001b[39m\u001b[38;5;124mB_\u001b[39m\u001b[38;5;124m%\u001b[39m\u001b[38;5;124mY_\u001b[39m\u001b[38;5;124m%\u001b[39m\u001b[38;5;124mHh_\u001b[39m\u001b[38;5;124m%\u001b[39m\u001b[38;5;124mMm_\u001b[39m\u001b[38;5;124m%\u001b[39m\u001b[38;5;124mSs\u001b[39m\u001b[38;5;124m'\u001b[39m\n\u001b[1;32m     20\u001b[0m     \u001b[38;5;66;03m#time of we run the script\u001b[39;00m\n",
      "\u001b[0;31mKeyError\u001b[0m: 'adam'"
     ]
    }
   ],
   "source": [
    "import argparse\n",
    "import time\n",
    "import torch\n",
    "import numpy as np\n",
    "from numpy import random\n",
    "from torch import nn\n",
    "from torch import optim\n",
    "import torchvision\n",
    "from torchvision import  transforms\n",
    "from datetime import datetime\n",
    "from net_models import *\n",
    "\n",
    "\n",
    "\n",
    "def get_expr_name(ldb=True, model='resnet', optimizer='sgd', lr=0.1,momentum=0, droprate=0, dataset='cifar10'):\n",
    "    name = {\n",
    "        'sgd': 'lr{}-momentum{}--droprate{}'.format(lr, momentum, droprate)\n",
    "    }[optimizer]\n",
    "    DATE_FORMAT = '%A_%d_%B_%Y_%Hh_%Mm_%Ss'\n",
    "    #time of we run the script\n",
    "    TIME_NOW = datetime.now().strftime(DATE_FORMAT)\n",
    "    \n",
    "    if ldb==True:\n",
    "        method=\"LayerDropBack\"\n",
    "    else:\n",
    "        method=\"Standard\"\n",
    "\n",
    "    return '{}-{}-{}-{}-{}-{}'.format(TIME_NOW,method, dataset, model, optimizer, name)\n",
    "\n",
    "\n",
    "def build_model(args,device):\n",
    "    print('==> Building model..')\n",
    "\n",
    "    no_of_class = {\n",
    "        'cifar10': 10,\n",
    "        'cifar100': 100,\n",
    "        'mnist': 10,\n",
    "        'svhn': 10,\n",
    "        'imagenet': 1000\n",
    "    }[args.dataset]\n",
    "\n",
    "    net = {       \n",
    "        'ResNet18': ResNet18,\n",
    "        'ResNet34': ResNet34,\n",
    "        'ResNet50': ResNet50,\n",
    "        'ResNet101': ResNet101,\n",
    "        'PreActResNet18': PreActResNet18,\n",
    "        'GoogLeNet' : GoogLeNet,\n",
    "        'DenseNet121' : DenseNet121,\n",
    "        'ResNeXt29_2x64d' : ResNeXt29_2x64d,\n",
    "        'MobileNet' : MobileNet,\n",
    "        'MobileNetV2' : MobileNetV2,\n",
    "        'DPN92' : DPN92,\n",
    "        'ShuffleNetG2': ShuffleNetG2,\n",
    "        'SENet18' : SENet18,\n",
    "        'ShuffleNetV2': ShuffleNetV2,\n",
    "        'EfficientNetB0' : EfficientNetB0,\n",
    "        'RegNetX_200MF' : RegNetX_200MF,\n",
    "        'SimpleDLA':SimpleDLA    \n",
    "    }[args.model](num_classes=no_of_class)\n",
    "    net = net.to(device)\n",
    "    return net\n",
    "\n",
    "\n",
    "def build_dataset(args):\n",
    "    if args.dataset == 'cifar10' or args.dataset == 'cifar100':\n",
    "        if args.dataset == 'cifar10':\n",
    "            dataset = torchvision.datasets.CIFAR10\n",
    "            TRAIN_MEAN = (0.4914, 0.4822, 0.4465)\n",
    "            TRAIN_STD = (0.2023, 0.1994, 0.2010)\n",
    "        else:\n",
    "            dataset = torchvision.datasets.CIFAR100\n",
    "            TRAIN_MEAN = (0.5070751592371323, 0.48654887331495095, 0.4409178433670343)\n",
    "            TRAIN_STD = (0.2673342858792401, 0.2564384629170883, 0.27615047132568404)\n",
    "\n",
    "        print('==> Preparing data..')\n",
    "        transform_train = transforms.Compose([\n",
    "            transforms.RandomCrop(32, padding=4),\n",
    "            transforms.RandomHorizontalFlip(),\n",
    "            transforms.RandomRotation(15),\n",
    "            transforms.ToTensor(),\n",
    "            transforms.Normalize(TRAIN_MEAN, TRAIN_STD),\n",
    "        ])\n",
    "\n",
    "        transform_test = transforms.Compose([\n",
    "            transforms.ToTensor(),\n",
    "            transforms.Normalize(TRAIN_MEAN, TRAIN_STD),\n",
    "        ])\n",
    "\n",
    "        trainset = dataset(root='./data', train=True, download=True, transform=transform_train)       \n",
    "        testset  = dataset(root='./data', train=False, download=True, transform=transform_test)\n",
    "        \n",
    "\n",
    "    if args.dataset=='svhn':\n",
    "        print('==> Preparing data..')\n",
    "        transform_train = transforms.Compose([\n",
    "            transforms.ToTensor(),\n",
    "            transforms.Normalize((0.5, 0.5, 0.5), (0.5, 0.5, 0.5)),\n",
    "        ])\n",
    "\n",
    "        transform_test = transforms.Compose([\n",
    "            transforms.ToTensor(),\n",
    "            transforms.Normalize((0.5, 0.5, 0.5), (0.5, 0.5, 0.5)),\n",
    "        ])\n",
    "\n",
    "        trainset = torchvision.datasets.SVHN(root='./data', split='train', download=True, transform=transform_train)\n",
    "        testset = torchvision.datasets.SVHN(root='./data', split='test', download=True, transform=transform_test)\n",
    "\n",
    "        \n",
    "    trainloader                 = torch.utils.data.DataLoader(trainset, batch_size=args.batch, shuffle=True, num_workers=32)\n",
    "    trainloader_double_batch    = torch.utils.data.DataLoader(trainset, batch_size=int(args.batch*args.batch_inc), shuffle=True, num_workers=32)\n",
    "    testloader = torch.utils.data.DataLoader(testset, batch_size=args.batch, shuffle=False, num_workers=18)\n",
    "\n",
    "    return trainloader, testloader,trainloader_double_batch\n",
    "\n",
    "def get_lr(optimizer):\n",
    "    for param_group in optimizer.param_groups:\n",
    "        return param_group['lr'] \n",
    "\n",
    "def set_lr(optimizer,lr):\n",
    "    for param_group in optimizer.param_groups:\n",
    "        param_group['lr'] = lr \n",
    "\n",
    "def set_grad(p,Val):\n",
    "    p.requires_grad=Val\n",
    "\n",
    "def get_new_lr(org_lr,args):\n",
    "    new_lr = org_lr\n",
    "    if args.lr_policy == 'double':\n",
    "        new_lr = org_lr*2\n",
    "    if args.lr_policy == 'relative':\n",
    "        new_lr = org_lr/(1-args.droprate+0.000001)\n",
    "    return new_lr\n",
    "\n",
    "def train(epoch, model, device, train_loader_single_batch, optimizer, criterion, args, params,train_loader_double_batch):\n",
    "    model.train()\n",
    "    train_loss      = 0\n",
    "    train_total     = 0\n",
    "    train_correct   = 0\n",
    "    \n",
    "    start_time      = time.process_time()\n",
    "\n",
    "    train_loader=train_loader_single_batch\n",
    "    if params is not None:\n",
    "        if  epoch % args.skip == 0 and epoch>0:\n",
    "            print(\"setting droplayer\")\n",
    "            original_lr = get_lr(optimizer)\n",
    "            new_lr = get_new_lr(original_lr,args)\n",
    "            set_lr(optimizer,new_lr)                   \n",
    "            train_loader=train_loader_double_batch \n",
    "        [set_grad(p,True) for p in params]    \n",
    "\n",
    "    for _, (data, target) in enumerate(train_loader, start=0):  \n",
    "        data = data.to(device)\n",
    "        target = target.to(device)        \n",
    "        optimizer.zero_grad()  \n",
    "        \n",
    "        # drop layers\n",
    "        if params is not None and args.ldb and epoch % args.skip == 0 and epoch>0:\n",
    "            [set_grad(p,False) if np.random.uniform() < args.droprate else set_grad(p,True) for p in params]\n",
    "\n",
    "        output = model(data) \n",
    "        loss = criterion(output, target)\n",
    "        train_loss += loss.item()\n",
    "        _, predictions = torch.max(output.data, 1)\n",
    "        train_total += target.size(0)\n",
    "        train_correct += int(sum(predictions == target))\n",
    "        loss.backward()\n",
    "        optimizer.step()\n",
    "            \n",
    "    end_time=time.process_time() - start_time\n",
    "    acc = round((train_correct / train_total) * 100, 2)\n",
    "    \n",
    "    if params is not None:\n",
    "        if args.ldb and epoch % args.skip == 0 and epoch>0:\n",
    "           set_lr(optimizer,original_lr)\n",
    "        print('LDB:   Epoch [{}], Train Loss: {}, Train Accuracy: {}, Epoch Time {}'.format(epoch, train_loss / train_total, acc,end_time), end='') \n",
    "        run.log({\"Epoch\":epoch, \"Train accuracy\": acc,\"Train loss\":train_loss/train_total, \"Epoch Time\":end_time})   \n",
    "    return end_time\n",
    "\n",
    "\n",
    "def test(epoch,model, device, test_loader, criterion):\n",
    "    model.eval()\n",
    "    test_loss = 0\n",
    "    test_total = 0\n",
    "    test_correct = 0\n",
    "    with torch.no_grad():\n",
    "        for data, target in test_loader:\n",
    "            data, target = data.to(device), target.to(device)\n",
    "            output = model(data)\n",
    "            test_loss += criterion(output, target).item()\n",
    "            scores, predictions = torch.max(output.data, 1)\n",
    "            test_total += target.size(0)\n",
    "            test_correct += int(sum(predictions == target))\n",
    "    acc = round((test_correct / test_total) * 100, 2)\n",
    "    print(' Test_loss: {}, Test_accuracy: {}'.format(test_loss / test_total, acc))\n",
    "    return acc\n",
    "    \n",
    "def get_parser():\n",
    "    parser = argparse.ArgumentParser(description='PyTorch CIFAR10 Training')\n",
    "    parser.add_argument('--model', default=MODEL, type=str, help='model')\n",
    "    parser.add_argument('--dataset', type=str, default=DATASET, help='dataset', choices=['cifar10', 'cifar100', 'mnist', 'svhn','imagenet'])\n",
    "    parser.add_argument('--lr', default=LEARN_RATE, type=float, help='learning rate')\n",
    "    parser.add_argument('--lr_scheduler', default=LEARN_RATE_SCHEDULER, type=str, help='scheduler', choices=['linear', 'cosine'] )\n",
    "    parser.add_argument('--lr_policy', default=LEARN_RATE_POLICY, type=str, help='polisy', choices=['double', 'fix', 'relative'] )\n",
    "    parser.add_argument('--lr_gamma', default=LEARN_RATE_GAMMA, type=float, help='learning rate gamma')\n",
    "    parser.add_argument('--momentum', default=MOMENTUM, type=float, help='momentum term')\n",
    "    parser.add_argument('--droprate', default=DROP_RATE, type=float, help='layer drop percentage')\n",
    "    parser.add_argument('--batch', default=BATCH_SIZE, type=int, help='batch size')\n",
    "    parser.add_argument('--batch_inc', default=BATCH_INC, type=float, help='batch inc')\n",
    "    parser.add_argument('--skip', default=SKIP_INDEX, type=int, help='skip index')\n",
    "    parser.add_argument('--epochs', default=EPOCHS, type=int, help='number of epochs')\n",
    "    parser.add_argument('--optim', type=str, default=OPTIMIZER, help='optimizer', choices=['sgd', 'dlrd', 'lrd', 'adam'])\n",
    "    parser.add_argument('--seed', default=SEED, type=int, help='seed')\n",
    "    parser.add_argument(\"--no_ldb\", action=\"store_true\",help=\"do not use layerdropback\") \n",
    "    parser.add_argument('--milestones', type=str,default=MILESTONES,help=\"milestones for lr decay\")\n",
    "    parser.add_argument('--project', default=PROJECT, type=str, help='project name') #test_dropback_params\n",
    "    return parser\n",
    "      \n",
    "\n",
    "def main():    \n",
    "    torch.manual_seed(2)\n",
    "    np.random.seed(2)\n",
    "    random.seed(2)\n",
    "    \n",
    "    parser          = get_parser()\n",
    "    args,unknown            = parser.parse_known_args()\n",
    "    if unknown:\n",
    "        print(f\"Ignoring unknown arguments: {unknown}\")\n",
    "    args.milestones = [int(item) for item in args.milestones.split(',')]\n",
    "    args.ldb        = not args.no_ldb # more easy, ldb positive as default\n",
    "    if (args.no_ldb):\n",
    "        args.droprate = 0.0\n",
    "    args.expr_name  = get_expr_name(args.ldb,model=args.model, optimizer=args.optim, lr=args.lr,\n",
    "                                     momentum=args.momentum,droprate = args.droprate, dataset=args.dataset)\n",
    "    \n",
    "         \n",
    "    trainloader_single_batch, testloader,trainloader_double_batch = build_dataset(args)\n",
    "    device = 'cuda' if torch.cuda.is_available() else 'cpu'\n",
    "    print(\"Device: \" + str(device))\n",
    "    print(\"Expr_name: \" + args.expr_name)\n",
    "    print(\"Args: \",args)\n",
    "\n",
    "\n",
    "    layerdropback_net           = build_model(args, device)\n",
    "    if torch.cuda.is_available() and torch.cuda.device_count() > 1:\n",
    "        layerdropback_net           = nn.DataParallel(layerdropback_net)\n",
    "\n",
    "    layerdropback_criterion     = nn.CrossEntropyLoss()\n",
    "    layerdropback_optimizer     = optim.SGD(layerdropback_net.parameters(), args.lr, momentum=args.momentum,weight_decay=1e-4,  nesterov=True) #weight_decay=1e-4, nesterov=True) #weight_decay=5e-4) #\n",
    "    if args.lr_scheduler == 'cosine':\n",
    "        layerdropback_lr_scheduler  = optim.lr_scheduler.CosineAnnealingLR(layerdropback_optimizer, T_max=200)\n",
    "    if args.lr_scheduler == 'linear':\n",
    "        milestones             = [round(args.epochs * 0.3), round(args.epochs * 0.6), round(args.epochs * 0.85)]\n",
    "        layerdropback_lr_scheduler  = optim.lr_scheduler.MultiStepLR(layerdropback_optimizer, milestones=milestones, gamma=args.lr_gamma)\n",
    "    \n",
    "\n",
    "    layerdropback_total_time = 0  \n",
    "    layerdropback_max_acc    = 0\n",
    "    \n",
    "\n",
    "    if args.ldb==True:\n",
    "        param_list = []\n",
    "        for name, param in layerdropback_net.named_parameters():\n",
    "            param_list.append(param)\n",
    "        # do not drop the last two layers    \n",
    "        param_list=param_list[:-2]\n",
    "    else:\n",
    "        param_list=None\n",
    "            \n",
    "    for epoch in range(args.epochs):\n",
    "        ### training\n",
    "        DATE_FORMAT = '%A_%d_%B_%Y_%Hh_%Mm_%Ss'\n",
    "        #time of we run the script\n",
    "        TIME_NOW = datetime.now().strftime(DATE_FORMAT)\n",
    "        print('start train rpoch', TIME_NOW)\n",
    "        end_time=train(epoch, layerdropback_net, device, trainloader_single_batch, layerdropback_optimizer, layerdropback_criterion, args,param_list,trainloader_double_batch)\n",
    "        TIME_NOW = datetime.now().strftime(DATE_FORMAT)\n",
    "        print('end train rpoch',TIME_NOW)\n",
    "        acc=test(epoch, layerdropback_net, device, testloader, layerdropback_criterion)\n",
    "        if acc>layerdropback_max_acc:\n",
    "            layerdropback_max_acc=acc        \n",
    "        layerdropback_total_time += end_time\n",
    "        layerdropback_lr_scheduler.step()\n",
    "\n",
    "            \n",
    "        print('LDB Time: {}, LDB Max Acc {}'.format(layerdropback_total_time,layerdropback_max_acc))\n",
    "       \n",
    "    print('Finished Training')\n",
    "    print(get_expr_name(args.ldb,model=args.model, optimizer=args.optim, lr=args.lr,\n",
    "                                     momentum=args.momentum,droprate = args.droprate, dataset=args.dataset))\n",
    "\n",
    "if __name__ == '__main__':\n",
    "    main()\n",
    "    \n",
    "\n",
    "\n"
   ]
  },
  {
   "cell_type": "code",
   "execution_count": null,
   "metadata": {},
   "outputs": [
    {
     "name": "stderr",
     "output_type": "stream",
     "text": [
      "\u001b[34m\u001b[1mwandb\u001b[0m: \u001b[32m\u001b[41mERROR\u001b[0m The nbformat package was not found. It is required to save notebook history.\n"
     ]
    },
    {
     "data": {
      "text/html": [],
      "text/plain": [
       "<IPython.core.display.HTML object>"
      ]
     },
     "metadata": {},
     "output_type": "display_data"
    },
    {
     "data": {
      "text/html": [
       "<br>    <style><br>        .wandb-row {<br>            display: flex;<br>            flex-direction: row;<br>            flex-wrap: wrap;<br>            justify-content: flex-start;<br>            width: 100%;<br>        }<br>        .wandb-col {<br>            display: flex;<br>            flex-direction: column;<br>            flex-basis: 100%;<br>            flex: 1;<br>            padding: 10px;<br>        }<br>    </style><br><div class=\"wandb-row\"><div class=\"wandb-col\"><h3>Run history:</h3><br/><table class=\"wandb\"><tr><td>Epoch</td><td>▁▁▁▁▁▂▂▂▂▂▂▂▃▃▃▃▃▃▃▃▄▄▄▄▄▄▅▅▅▅▆▆▆▇▇▇▇███</td></tr><tr><td>Epoch Time</td><td>▁▄▄▄▄▄▁▄▄▄▄▁▄▄▄▄▄▄▁▄▄▁▁▄▄▁██▄██████▄█▄██</td></tr><tr><td>Train accuracy</td><td>▁▁▃▃▃▅▅▅▅▆▆▆▆▆▆▆▆▆▆▆▇▇▇▇▇▇▇▇▇▇▇▇▇▇██████</td></tr><tr><td>Train loss</td><td>█▇▆▅▅▅▄▄▃▄▃▃▃▃▃▃▃▂▂▂▃▂▃▂▂▂▂▂▂▂▂▂▂▁▂▁▁▁▁▁</td></tr></table><br/></div><div class=\"wandb-col\"><h3>Run summary:</h3><br/><table class=\"wandb\"><tr><td>Epoch</td><td>120</td></tr><tr><td>Epoch Time</td><td>110.49524</td></tr><tr><td>Train accuracy</td><td>75.55</td></tr><tr><td>Train loss</td><td>0.00625</td></tr></table><br/></div></div>"
      ],
      "text/plain": [
       "<IPython.core.display.HTML object>"
      ]
     },
     "metadata": {},
     "output_type": "display_data"
    },
    {
     "data": {
      "text/html": [
       " View run <strong style=\"color:#cdcd00\">divine-fire-8</strong> at: <a href='https://wandb.ai/sagitmalka10-ariel-university/LDB/runs/65lxiuhq' target=\"_blank\">https://wandb.ai/sagitmalka10-ariel-university/LDB/runs/65lxiuhq</a><br> View project at: <a href='https://wandb.ai/sagitmalka10-ariel-university/LDB' target=\"_blank\">https://wandb.ai/sagitmalka10-ariel-university/LDB</a><br>Synced 5 W&B file(s), 0 media file(s), 0 artifact file(s) and 0 other file(s)"
      ],
      "text/plain": [
       "<IPython.core.display.HTML object>"
      ]
     },
     "metadata": {},
     "output_type": "display_data"
    },
    {
     "data": {
      "text/html": [
       "Find logs at: <code>./wandb/run-20250705_102621-65lxiuhq/logs</code>"
      ],
      "text/plain": [
       "<IPython.core.display.HTML object>"
      ]
     },
     "metadata": {},
     "output_type": "display_data"
    }
   ],
   "source": [
    "# Finish the run and upload any remaining data.\n",
    "run.finish()"
   ]
  }
 ],
 "metadata": {
  "kernelspec": {
   "display_name": ".venv",
   "language": "python",
   "name": "python3"
  },
  "language_info": {
   "codemirror_mode": {
    "name": "ipython",
    "version": 3
   },
   "file_extension": ".py",
   "mimetype": "text/x-python",
   "name": "python",
   "nbconvert_exporter": "python",
   "pygments_lexer": "ipython3",
   "version": "3.10.18"
  }
 },
 "nbformat": 4,
 "nbformat_minor": 2
}
